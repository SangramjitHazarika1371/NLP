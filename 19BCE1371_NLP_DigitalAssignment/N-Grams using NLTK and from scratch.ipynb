{
 "cells": [
  {
   "cell_type": "markdown",
   "id": "9d706e63",
   "metadata": {},
   "source": [
    "# Name: Sangramjit Hazarika\n",
    "# Registration Number: 19BCE1371 - DA-2 (NLP)"
   ]
  },
  {
   "cell_type": "markdown",
   "id": "c7d68bb1",
   "metadata": {},
   "source": [
    "## From Scratch (without using nltk library)"
   ]
  },
  {
   "cell_type": "code",
   "execution_count": 9,
   "id": "ded2524c",
   "metadata": {},
   "outputs": [],
   "source": [
    "import re"
   ]
  },
  {
   "cell_type": "code",
   "execution_count": 10,
   "id": "1ebd3eaa",
   "metadata": {},
   "outputs": [],
   "source": [
    "def n_gram_func(text, n):\n",
    "    # Split Sentences into tokens\n",
    "    token_list = re.split(\"\\\\s+\", text)\n",
    "    ngrams = []\n",
    "    # Collect the n-grams\n",
    "    for i in range(len(token_list)-n+1):\n",
    "        temp = [token_list[j] for j in range(i, i+n)]\n",
    "        ngrams.append(\" \".join(temp))\n",
    "    return ngrams"
   ]
  },
  {
   "cell_type": "code",
   "execution_count": 11,
   "id": "1d54780c",
   "metadata": {},
   "outputs": [],
   "source": [
    "text1 = \"Hello, This is Sangramjit Hazarika with Registration Number 19BCE1371. This is my NLP DA2.\""
   ]
  },
  {
   "cell_type": "markdown",
   "id": "7e1454f4",
   "metadata": {},
   "source": [
    "### 1-gram"
   ]
  },
  {
   "cell_type": "code",
   "execution_count": 12,
   "id": "3afbc675",
   "metadata": {},
   "outputs": [
    {
     "data": {
      "text/plain": [
       "['Hello,',\n",
       " 'This',\n",
       " 'is',\n",
       " 'Sangramjit',\n",
       " 'Hazarika',\n",
       " 'with',\n",
       " 'Registration',\n",
       " 'Number',\n",
       " '19BCE1371.',\n",
       " 'This',\n",
       " 'is',\n",
       " 'my',\n",
       " 'NLP',\n",
       " 'DA2.']"
      ]
     },
     "execution_count": 12,
     "metadata": {},
     "output_type": "execute_result"
    }
   ],
   "source": [
    "n_gram_func(text1,1)"
   ]
  },
  {
   "cell_type": "markdown",
   "id": "3032431c",
   "metadata": {},
   "source": [
    "### 2-gram"
   ]
  },
  {
   "cell_type": "code",
   "execution_count": 13,
   "id": "80d2596f",
   "metadata": {},
   "outputs": [
    {
     "data": {
      "text/plain": [
       "['Hello, This',\n",
       " 'This is',\n",
       " 'is Sangramjit',\n",
       " 'Sangramjit Hazarika',\n",
       " 'Hazarika with',\n",
       " 'with Registration',\n",
       " 'Registration Number',\n",
       " 'Number 19BCE1371.',\n",
       " '19BCE1371. This',\n",
       " 'This is',\n",
       " 'is my',\n",
       " 'my NLP',\n",
       " 'NLP DA2.']"
      ]
     },
     "execution_count": 13,
     "metadata": {},
     "output_type": "execute_result"
    }
   ],
   "source": [
    "n_gram_func(text1,2)"
   ]
  },
  {
   "cell_type": "markdown",
   "id": "8743232b",
   "metadata": {},
   "source": [
    "### 3 gram"
   ]
  },
  {
   "cell_type": "code",
   "execution_count": 14,
   "id": "27d52fb7",
   "metadata": {},
   "outputs": [
    {
     "data": {
      "text/plain": [
       "['Hello, This is',\n",
       " 'This is Sangramjit',\n",
       " 'is Sangramjit Hazarika',\n",
       " 'Sangramjit Hazarika with',\n",
       " 'Hazarika with Registration',\n",
       " 'with Registration Number',\n",
       " 'Registration Number 19BCE1371.',\n",
       " 'Number 19BCE1371. This',\n",
       " '19BCE1371. This is',\n",
       " 'This is my',\n",
       " 'is my NLP',\n",
       " 'my NLP DA2.']"
      ]
     },
     "execution_count": 14,
     "metadata": {},
     "output_type": "execute_result"
    }
   ],
   "source": [
    "n_gram_func(text1,3)"
   ]
  },
  {
   "cell_type": "markdown",
   "id": "bec54c73",
   "metadata": {},
   "source": [
    "### 4 gram"
   ]
  },
  {
   "cell_type": "code",
   "execution_count": 15,
   "id": "833bfec1",
   "metadata": {},
   "outputs": [
    {
     "data": {
      "text/plain": [
       "['Hello, This is Sangramjit',\n",
       " 'This is Sangramjit Hazarika',\n",
       " 'is Sangramjit Hazarika with',\n",
       " 'Sangramjit Hazarika with Registration',\n",
       " 'Hazarika with Registration Number',\n",
       " 'with Registration Number 19BCE1371.',\n",
       " 'Registration Number 19BCE1371. This',\n",
       " 'Number 19BCE1371. This is',\n",
       " '19BCE1371. This is my',\n",
       " 'This is my NLP',\n",
       " 'is my NLP DA2.']"
      ]
     },
     "execution_count": 15,
     "metadata": {},
     "output_type": "execute_result"
    }
   ],
   "source": [
    "n_gram_func(text1,4)"
   ]
  },
  {
   "cell_type": "markdown",
   "id": "8f1c55c1",
   "metadata": {},
   "source": [
    "## Using nltk library"
   ]
  },
  {
   "cell_type": "code",
   "execution_count": 16,
   "id": "74015907",
   "metadata": {},
   "outputs": [
    {
     "name": "stdout",
     "output_type": "stream",
     "text": [
      "1-gram:  ['The', 'cat', 'drank', 'all', 'the', 'milk']\n",
      "2-gram:  ['The cat', 'cat drank', 'drank all', 'all the', 'the milk']\n",
      "3-gram:  ['The cat drank', 'cat drank all', 'drank all the', 'all the milk']\n",
      "4-gram:  ['The cat drank all', 'cat drank all the', 'drank all the milk']\n"
     ]
    }
   ],
   "source": [
    "import nltk\n",
    "from nltk.util import ngrams\n",
    " \n",
    "# Function to generate n-grams from sentences.\n",
    "def extract_ngrams(data, num):\n",
    "    n_grams = ngrams(nltk.word_tokenize(data), num)\n",
    "    return [ ' '.join(grams) for grams in n_grams]\n",
    " \n",
    "data = 'The cat drank all the milk'\n",
    " \n",
    "print(\"1-gram: \", extract_ngrams(data, 1))\n",
    "print(\"2-gram: \", extract_ngrams(data, 2))\n",
    "print(\"3-gram: \", extract_ngrams(data, 3))\n",
    "print(\"4-gram: \", extract_ngrams(data, 4))"
   ]
  },
  {
   "cell_type": "code",
   "execution_count": null,
   "id": "449f4579",
   "metadata": {},
   "outputs": [],
   "source": []
  }
 ],
 "metadata": {
  "kernelspec": {
   "display_name": "Python 3 (ipykernel)",
   "language": "python",
   "name": "python3"
  },
  "language_info": {
   "codemirror_mode": {
    "name": "ipython",
    "version": 3
   },
   "file_extension": ".py",
   "mimetype": "text/x-python",
   "name": "python",
   "nbconvert_exporter": "python",
   "pygments_lexer": "ipython3",
   "version": "3.8.11"
  }
 },
 "nbformat": 4,
 "nbformat_minor": 5
}
